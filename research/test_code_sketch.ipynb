{
 "cells": [
  {
   "cell_type": "code",
   "execution_count": 15,
   "id": "eb5ab869",
   "metadata": {},
   "outputs": [
    {
     "data": {
      "text/plain": [
       "'/home/pratham/Desktop/projects/AI-Interviewer-Streamlit/research'"
      ]
     },
     "execution_count": 15,
     "metadata": {},
     "output_type": "execute_result"
    }
   ],
   "source": [
    "%pwd"
   ]
  },
  {
   "cell_type": "code",
   "execution_count": 16,
   "id": "54154a0e",
   "metadata": {},
   "outputs": [
    {
     "name": "stdout",
     "output_type": "stream",
     "text": [
      "/home/pratham/Desktop/projects/AI-Interviewer-Streamlit\n"
     ]
    }
   ],
   "source": [
    "%cd .."
   ]
  },
  {
   "cell_type": "code",
   "execution_count": 17,
   "id": "545fd6c4",
   "metadata": {},
   "outputs": [
    {
     "data": {
      "text/plain": [
       "'/home/pratham/Desktop/projects/AI-Interviewer-Streamlit'"
      ]
     },
     "execution_count": 17,
     "metadata": {},
     "output_type": "execute_result"
    }
   ],
   "source": [
    "%pwd"
   ]
  },
  {
   "cell_type": "code",
   "execution_count": 18,
   "id": "5e42d8ea",
   "metadata": {},
   "outputs": [],
   "source": [
    "from src.prompt import *\n",
    "from src.helper import *"
   ]
  },
  {
   "cell_type": "code",
   "execution_count": 19,
   "id": "24f28e52",
   "metadata": {},
   "outputs": [],
   "source": [
    "def generate_follow_up_question(question, answer, prompt = followup_questions_prompt):\n",
    "    prompt_template = prompt\n",
    "    prompt = PromptTemplate(template=prompt_template, input_variables=['question', 'answer'])\n",
    "    response = (prompt | llm).invoke({'question': question, 'answer': answer})\n",
    "    return response.content"
   ]
  },
  {
   "cell_type": "code",
   "execution_count": 20,
   "id": "1919917b",
   "metadata": {},
   "outputs": [],
   "source": [
    "# code_executor_prompt = '''\n",
    "# Act as a Python compiler. I will provide you with a programming problem and its Python code. You will simulate execution and respond **only** with the exact terminal output or error message produced by the code, as if it were run in a Python interpreter. Do **not** include explanations, summaries, or extra text. Only show the raw output as it would appear in the terminal.\n",
    "\n",
    "# When I give you a problem {problem} and its code {context}, respond strictly with the output.\n",
    "\n",
    "# # ------------------------\n",
    "# # Example 1\n",
    "# problem: Write code to add two integers using user input.\n",
    "\n",
    "# code:\n",
    "# a = int(input())\n",
    "# b = int(input())\n",
    "# print(a + b)\n",
    "\n",
    "# # Input:\n",
    "# # 5\n",
    "# # 7\n",
    "\n",
    "# # Output:\n",
    "# 12\n",
    "\n",
    "# # ------------------------\n",
    "# # Example 2\n",
    "# problem: Write a function count_vowels(s) that takes a string s and returns the number of vowels (a, e, i, o, u, case-insensitive) in the string.\n",
    "\n",
    "# code:\n",
    "# def count_vowels(s):\n",
    "#     vowels = \"aeiouAEIOU\"\n",
    "#     count = 0\n",
    "#     for char in s:\n",
    "#         if char in vowels:\n",
    "#             count += 1\n",
    "#     return count\n",
    "\n",
    "# print(count_vowels(\"Hello World\"))\n",
    "\n",
    "# # Output:\n",
    "# 3\n",
    "\n",
    "# # ------------------------\n",
    "# # Example 3\n",
    "# problem: Print the square of numbers from 1 to 5 using a for loop.\n",
    "\n",
    "# code:\n",
    "# for i in range(1, 6):\n",
    "#     print(i ** 2)\n",
    "\n",
    "# # Output:\n",
    "# 1\n",
    "# 4\n",
    "# 9\n",
    "# 16\n",
    "# 25\n",
    "\n",
    "# # ------------------------\n",
    "# # Example 4\n",
    "# problem: Show what happens if you try to divide a number by zero.\n",
    "\n",
    "# code:\n",
    "# a = 10\n",
    "# b = 0\n",
    "# print(a / b)\n",
    "\n",
    "# # Output:\n",
    "# Traceback (most recent call last):\n",
    "#   File \"<stdin>\", line 3, in <module>\n",
    "# ZeroDivisionError: division by zero\n",
    "\n",
    "# # ------------------------\n",
    "# # Example 5\n",
    "# problem: Try to import a module that doesn't exist to show the import error.\n",
    "\n",
    "# code:\n",
    "# import notamodule\n",
    "\n",
    "# # Output:\n",
    "# Traceback (most recent call last):\n",
    "#   File \"<stdin>\", line 1, in <module>\n",
    "# ModuleNotFoundError: No module named 'notamodule'\n",
    "# '''\n"
   ]
  },
  {
   "cell_type": "code",
   "execution_count": 21,
   "id": "ed87dc5c",
   "metadata": {},
   "outputs": [],
   "source": [
    "code_executor_prompt = '''Act as a Python compiler and interpreter. When I provide Python code, run it as if you were executing it in a real Python environment. If there are any errors, provide the error message exactly as it would appear in Python. If the code is correct, return the output of the program. You should not modify the code unless it’s necessary to fix an error, in which case you should explain the changes. Let's start with the following code {context}'''"
   ]
  },
  {
   "cell_type": "code",
   "execution_count": 22,
   "id": "015614b1",
   "metadata": {},
   "outputs": [],
   "source": [
    "# problem_test = 'write code to divide take by user numbers'"
   ]
  },
  {
   "cell_type": "code",
   "execution_count": 23,
   "id": "020c92e9",
   "metadata": {},
   "outputs": [],
   "source": [
    "problem_test = 'Write a function that takes a list of integers and returns the sum of all even numbers in the list.'"
   ]
  },
  {
   "cell_type": "code",
   "execution_count": 24,
   "id": "1b25b2c3",
   "metadata": {},
   "outputs": [],
   "source": [
    "code_test = '''def sum_add(lst):\n",
    "    filter_lst = []\n",
    "    for i in lst:\n",
    "        if i % 2 == 0:\n",
    "            filter_lst.append(i)\n",
    "    result = sum(filter_lst)\n",
    "    return result\n",
    "\n",
    "home = sum_add([1, 2, 3, 4, 5, 6])\n",
    "print(home)\n",
    "'''"
   ]
  },
  {
   "cell_type": "code",
   "execution_count": 25,
   "id": "ab01df42",
   "metadata": {},
   "outputs": [],
   "source": [
    "# code_test = '''\n",
    "\n",
    "# def add(a,b):\n",
    "#     return a/b\n",
    "    \n",
    "# a = input(50)\n",
    "# b = input(2)\n",
    "\n",
    "# c= add(a,b)\n",
    "# print(c)\n",
    "\n",
    "# '''"
   ]
  },
  {
   "cell_type": "code",
   "execution_count": 6,
   "id": "49f579ee",
   "metadata": {},
   "outputs": [
    {
     "name": "stdout",
     "output_type": "stream",
     "text": [
      "In whispers of the ticking clock’s embrace,  \n",
      "A journey beckons through the veiled unknown,  \n",
      "A thread of moments woven in space,  \n",
      "Where past and future softly intertwine and grow.  \n",
      "\n",
      "Step through the portal, silent and bright,  \n",
      "Across the sands of yesterday’s dawn,  \n",
      "Touch echoes lost in fading light,  \n",
      "And see the seeds of what’s to come, reborn.  \n",
      "\n",
      "Time’s river flows with endless grace,  \n",
      "A current pulling hearts afar,  \n",
      "A fleeting glimpse of every place,  \n",
      "Where memories dance and dreams are star.  \n",
      "\n",
      "Yet caution sings in ancient lore,  \n",
      "For meddling in the hours’ weave,  \n",
      "May change the tides forevermore,  \n",
      "And leave our hearts with no reprieve.  \n",
      "\n",
      "So cherish each moment’s fragile glow,  \n",
      "A gift of now, a fleeting art,  \n",
      "For in time’s endless ebb and flow,  \n",
      "We find ourselves—forever part.\n"
     ]
    }
   ],
   "source": [
    "# !pip install langchain\n",
    "# !pip install euriai\n",
    "from euriai import EuriaiLangChainLLM\n",
    "import os\n",
    "\n",
    "api_key = os.getenv('EURON_API_KEY')\n",
    "\n",
    "llm = EuriaiLangChainLLM(\n",
    "    api_key=api_key,\n",
    "    model=\"gpt-4.1-nano\",\n",
    "    temperature=0.7,\n",
    "    max_tokens=300\n",
    ")\n",
    "\n",
    "print(llm.invoke(\"Write a poem about time travel.\"))"
   ]
  },
  {
   "cell_type": "code",
   "execution_count": 26,
   "id": "93d23afa",
   "metadata": {},
   "outputs": [],
   "source": [
    "def code_executor(code =code_test,problem=problem_test, prompt=code_executor_prompt):\n",
    "    prompt_template = prompt\n",
    "    prompt = PromptTemplate(template=prompt_template, input_variables=['context','problem'])\n",
    "    response = (prompt | llm).invoke({'context': code, 'problem':problem})\n",
    "    return response"
   ]
  },
  {
   "cell_type": "code",
   "execution_count": 27,
   "id": "9fa3d404",
   "metadata": {},
   "outputs": [],
   "source": [
    "response = code_executor(code=code_test,problem=problem_test,prompt=code_executor_prompt)"
   ]
  },
  {
   "cell_type": "code",
   "execution_count": 28,
   "id": "e0e0e0ac",
   "metadata": {},
   "outputs": [
    {
     "name": "stdout",
     "output_type": "stream",
     "text": [
      "You've provided a Python function `sum_add` that takes a list of numbers as input, filters out the odd numbers, and returns the sum of the remaining even numbers. \n",
      "\n",
      "Here's the code with some minor formatting adjustments for readability:\n",
      "\n",
      "```python\n",
      "def sum_add(lst):\n",
      "    filter_lst = []\n",
      "    for i in lst:\n",
      "        if i % 2 == 0:\n",
      "            filter_lst.append(i)\n",
      "    result = sum(filter_lst)\n",
      "    return result\n",
      "\n",
      "home = sum_add([1, 2, 3, 4, 5, 6])\n",
      "print(home)\n",
      "```\n",
      "\n",
      "When you run this code, it will execute without any errors. The output will be:\n",
      "\n",
      "```\n",
      "12\n",
      "```\n",
      "\n",
      "This is because the function `sum_add` correctly filters out the odd numbers (1, 3, 5) from the input list and returns the sum of the remaining even numbers (2, 4, 6), which is 12.\n"
     ]
    }
   ],
   "source": [
    "print(response.content)"
   ]
  },
  {
   "cell_type": "code",
   "execution_count": null,
   "id": "bc865122",
   "metadata": {},
   "outputs": [],
   "source": []
  },
  {
   "cell_type": "code",
   "execution_count": null,
   "id": "4af5231c",
   "metadata": {},
   "outputs": [],
   "source": []
  }
 ],
 "metadata": {
  "kernelspec": {
   "display_name": "venv",
   "language": "python",
   "name": "python3"
  },
  "language_info": {
   "codemirror_mode": {
    "name": "ipython",
    "version": 3
   },
   "file_extension": ".py",
   "mimetype": "text/x-python",
   "name": "python",
   "nbconvert_exporter": "python",
   "pygments_lexer": "ipython3",
   "version": "3.10.16"
  }
 },
 "nbformat": 4,
 "nbformat_minor": 5
}
